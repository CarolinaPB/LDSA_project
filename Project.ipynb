{
 "cells": [
  {
   "cell_type": "code",
   "execution_count": 63,
   "metadata": {},
   "outputs": [],
   "source": [
    "from pyspark.sql import SparkSession\n",
    "from pyspark.sql import functions as F\n",
    "from pyspark.sql.types import IntegerType\n",
    "import time\n",
    "\n",
    "# New API\n",
    "spark = SparkSession\\\n",
    "        .builder\\\n",
    "        .master(\"spark://host-192-168-1-153-ldsa:7077\")\\\n",
    "        .appName(\"team22\")\\\n",
    "        .config(\"spark.shuffle.service.enabled\", True)\\\n",
    "        .config(\"spark.dynamicAllocation.enabled\", True)\\\n",
    "        .config(\"spark.dynamicAllocation.minExecutors\", 4)\\\n",
    "        .config(\"spark.dynamicAllocation.maxExecutors\", 4)\\\n",
    "        .config(\"spark.dynamicAllocation.executorIdleTimeout\",\"60s\")\\\n",
    "        .config(\"spark.executor.cores\",8)\\\n",
    "        .getOrCreate()\n",
    "        \n",
    "# Old API (RDD)\n",
    "sc = spark.sparkContext"
   ]
  },
  {
   "cell_type": "code",
   "execution_count": null,
   "metadata": {},
   "outputs": [],
   "source": [
    "flight_data = spark\\\n",
    "    .read\\\n",
    "    .format(\"csv\")\\\n",
    "    .option(\"header\",\"true\")\\\n",
    "    .load(\"hdfs://192.168.1.153:9000/team22/data/*.csv\")\n",
    "\n",
    "flight_data = flight_data.drop(\"CancellationCode\",\"Distance\",\"AirTime\",\"CRSElapsedTime\",\"Diverted\",\"SecurityDelay\",\"LateAircraftDelay\",\"UniqueCarrier\",\"TaxiIn\", \"TaxiOut\", \"FlightNum\", \"TailNum\",\"ActualElapsedTime\",\"CarrierDelay\" ,\"WeatherDelay\",\"NASDelay\")"
   ]
  },
  {
   "cell_type": "markdown",
   "metadata": {},
   "source": [
    "# Grandma Question"
   ]
  },
  {
   "cell_type": "markdown",
   "metadata": {},
   "source": [
    "Filter Origin and Destination"
   ]
  },
  {
   "cell_type": "code",
   "execution_count": 60,
   "metadata": {},
   "outputs": [
    {
     "name": "stdout",
     "output_type": "stream",
     "text": [
      "+---------+------------------+\n",
      "|DayOfWeek|   avg(TotalDelay)|\n",
      "+---------+------------------+\n",
      "|        1|14.553268765133172|\n",
      "|        2|16.411973918197983|\n",
      "|        7|17.523692307692308|\n",
      "|        3| 20.41650671785029|\n",
      "|        5|23.048989589712185|\n",
      "|        4|23.234423195558296|\n",
      "|        6|23.413401476433844|\n",
      "+---------+------------------+\n",
      "\n",
      "+----------+------------------+\n",
      "|DayOfMonth|   avg(TotalDelay)|\n",
      "+----------+------------------+\n",
      "|        10| 9.489583333333334|\n",
      "|         8|11.816489361702128|\n",
      "|        11|12.013192612137203|\n",
      "|         9|13.067204301075268|\n",
      "|        23| 14.71576227390181|\n",
      "+----------+------------------+\n",
      "only showing top 5 rows\n",
      "\n",
      "Time taken: 101.80658030509949\n"
     ]
    }
   ],
   "source": [
    "start_time = time.time()\n",
    "\n",
    "########################\n",
    "\n",
    "airports_Q1 = flight_data.filter(flight_data[\"Origin\"]==\"LAX\").filter(flight_data[\"Dest\"]==\"HNL\")\n",
    "\n",
    "# Week day delay\n",
    "\n",
    "week_day_delay = airports_Q1.select(\"DayOfWeek\", \"ArrDelay\", \"DepDelay\")\n",
    "week_day_delay = week_day_delay.withColumn(\"TotalDelay\", week_day_delay[\"ArrDelay\"].cast(\"float\")+week_day_delay[\"DepDelay\"].cast(\"float\")).orderBy(\"DayOfWeek\")\n",
    "week_day_delay = week_day_delay.select(week_day_delay[\"DayOfWeek\"].cast(IntegerType()),\"TotalDelay\")\n",
    "week_day_delay = week_day_delay.groupBy(\"DayOfWeek\").agg(F.mean(\"TotalDelay\"))\n",
    "\n",
    "week_day_delay.orderBy(\"avg(TotalDelay)\").show()\n",
    "\n",
    "# Monthly delay\n",
    "\n",
    "month_delay = airports_Q1.select(\"DayOfMonth\", \"ArrDelay\", \"DepDelay\")\n",
    "month_delay = month_delay.withColumn(\"TotalDelay\", month_delay[\"ArrDelay\"].cast(\"float\")+month_delay[\"DepDelay\"].cast(\"float\"))\n",
    "month_delay = month_delay.select(month_delay[\"DayOfMonth\"].cast(IntegerType()),\"TotalDelay\")\n",
    "month_delay = month_delay.groupBy(\"DayOfMonth\").agg(F.mean(\"TotalDelay\"))\n",
    "\n",
    "month_delay.orderBy(\"avg(TotalDelay)\").show(5)\n",
    "\n",
    "########################\n",
    "\n",
    "end_time = time.time()\n",
    "print(\"Time taken:\", end_time-start_time)"
   ]
  },
  {
   "cell_type": "markdown",
   "metadata": {},
   "source": [
    "# Least delays/flights"
   ]
  },
  {
   "cell_type": "code",
   "execution_count": 61,
   "metadata": {},
   "outputs": [
    {
     "name": "stdout",
     "output_type": "stream",
     "text": [
      "+------+-------------------+\n",
      "|Origin|      avg(DepDelay)|\n",
      "+------+-------------------+\n",
      "|   BQN|-1.9230769230769231|\n",
      "|   ROP|-1.6528716216216217|\n",
      "|   GRB|-0.8628618693134822|\n",
      "|   AZO|-0.5115480649188514|\n",
      "|   VPS|-0.2964519140989729|\n",
      "+------+-------------------+\n",
      "only showing top 5 rows\n",
      "\n",
      "Time taken: 34.814409494400024\n"
     ]
    }
   ],
   "source": [
    "start_time = time.time()\n",
    "\n",
    "########################\n",
    "\n",
    "airports_Q2 = flight_data.select(\"Origin\", \"DepDelay\")\n",
    "airports_Q2 = airports_Q2.groupBy(\"Origin\").agg(F.mean(\"DepDelay\"))\n",
    "airports_Q2.orderBy(\"avg(DepDelay)\").show(5)\n",
    "\n",
    "########################\n",
    "\n",
    "end_time = time.time()\n",
    "print(\"Time taken:\", end_time-start_time)"
   ]
  },
  {
   "cell_type": "code",
   "execution_count": 62,
   "metadata": {},
   "outputs": [],
   "source": [
    "spark.stop()"
   ]
  },
  {
   "cell_type": "code",
   "execution_count": null,
   "metadata": {},
   "outputs": [],
   "source": [
    "spark = SparkSession\\\n",
    "        .builder\\\n",
    "        .master(\"spark://host-192-168-1-153-ldsa:7077\")\\\n",
    "        .appName(\"team22\")\\\n",
    "        .config(\"spark.shuffle.service.enabled\", True)\\\n",
    "        .config(\"spark.dynamicAllocation.enabled\", True)\\\n",
    "        .config(\"spark.dynamicAllocation.minExecutors\", 4)\\\n",
    "        .config(\"spark.dynamicAllocation.maxExecutors\", 4)\\\n",
    "        .config(\"spark.dynamicAllocation.executorIdleTimeout\",\"60s\")\\\n",
    "        .config(\"spark.executor.cores\",8)\\\n",
    "        .getOrCreate()\n",
    "        \n",
    "spark = SparkSession\\\n",
    "        .builder\\\n",
    "        .master(\"local[3]\")\\\n",
    "        .appName(\"team22\")\\\n",
    "        .config(\"spark.shuffle.service.enabled\", True)\\\n",
    "        .config(\"spark.dynamicAllocation.enabled\", True)\\\n",
    "        .config(\"spark.dynamicAllocation.executorIdleTimeout\",\"60s\")\\\n",
    "        .config(\"spark.executor.cores\",8)\\\n",
    "        .getOrCreate()"
   ]
  },
  {
   "cell_type": "code",
   "execution_count": 43,
   "metadata": {},
   "outputs": [
    {
     "name": "stdout",
     "output_type": "stream",
     "text": [
      "[1987, 1988, 1989, 1990, 1991, 1992, 1993, 1994, 1995, 1996, 1997, 1998, 1999, 2000, 2001, 2002, 2003, 2004, 2005, 2006, 2007, 2008]\n"
     ]
    }
   ],
   "source": []
  },
  {
   "cell_type": "code",
   "execution_count": null,
   "metadata": {},
   "outputs": [],
   "source": []
  }
 ],
 "metadata": {
  "kernelspec": {
   "display_name": "Python 3",
   "language": "python",
   "name": "python3"
  },
  "language_info": {
   "codemirror_mode": {
    "name": "ipython",
    "version": 3
   },
   "file_extension": ".py",
   "mimetype": "text/x-python",
   "name": "python",
   "nbconvert_exporter": "python",
   "pygments_lexer": "ipython3",
   "version": "3.6.7"
  }
 },
 "nbformat": 4,
 "nbformat_minor": 2
}
