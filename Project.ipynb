{
 "cells": [
  {
   "cell_type": "code",
   "execution_count": 1,
   "metadata": {},
   "outputs": [],
   "source": [
    "from pyspark.sql import SparkSession\n",
    "from pyspark.sql import functions as F\n",
    "from pyspark.sql.types import IntegerType\n",
    "import time\n",
    "\n",
    "# New API\n",
    "spark = SparkSession\\\n",
    "        .builder\\\n",
    "        .master(\"local[1]\")\\\n",
    "        .appName(\"team22\")\\\n",
    "        .config(\"spark.dynamicAllocation.enabled\", True)\\\n",
    "        .config(\"spark.shuffle.service.enabled\", True)\\\n",
    "        .config(\"spark.dynamicAllocation.executorIdleTimeout\",\"30s\")\\\n",
    "        .config(\"spark.executor.cores\",4)\\\n",
    "        .getOrCreate()\n",
    "        \n",
    "# Old API (RDD)\n",
    "sc = spark.sparkContext"
   ]
  },
  {
   "cell_type": "code",
   "execution_count": 2,
   "metadata": {},
   "outputs": [],
   "source": [
    "flight_data = spark\\\n",
    "    .read\\\n",
    "    .format(\"csv\")\\\n",
    "    .option(\"header\",\"true\")\\\n",
    "    .load(\"hdfs://192.168.1.153:9000/team22/data/*.csv\")\n",
    "\n",
    "flight_data = flight_data.drop(\"CancellationCode\",\"Distance\",\"AirTime\",\"CRSElapsedTime\",\"Diverted\",\"SecurityDelay\",\"LateAircraftDelay\",\"UniqueCarrier\",\"TaxiIn\", \"TaxiOut\", \"FlightNum\", \"TailNum\",\"ActualElapsedTime\",\"CarrierDelay\" ,\"WeatherDelay\",\"NASDelay\")"
   ]
  },
  {
   "cell_type": "markdown",
   "metadata": {},
   "source": [
    "# Grandma Question"
   ]
  },
  {
   "cell_type": "markdown",
   "metadata": {},
   "source": [
    "Filter Origin and Destination"
   ]
  },
  {
   "cell_type": "code",
   "execution_count": 7,
   "metadata": {},
   "outputs": [
    {
     "name": "stdout",
     "output_type": "stream",
     "text": [
      "+---------+------------------+\n",
      "|DayOfWeek|   avg(TotalDelay)|\n",
      "+---------+------------------+\n",
      "|        2| 17.31062849621586|\n",
      "|        1|18.857736510616192|\n",
      "|        3| 20.42714399152991|\n",
      "|        7|20.805879237288135|\n",
      "|        6|21.071665846456693|\n",
      "|        5| 23.74595660749507|\n",
      "|        4| 24.01305174788483|\n",
      "+---------+------------------+\n",
      "\n",
      "+----------+------------------+\n",
      "|DayOfMonth|   avg(TotalDelay)|\n",
      "+----------+------------------+\n",
      "|        24| 16.23353124116483|\n",
      "|         7| 17.85451457684687|\n",
      "|         8|17.889997150185238|\n",
      "|        23|18.498298355076574|\n",
      "|        12|18.641434262948206|\n",
      "+----------+------------------+\n",
      "only showing top 5 rows\n",
      "\n",
      "Time taken: 2054.0958046913147\n"
     ]
    }
   ],
   "source": [
    "start_time = time.time()\n",
    "\n",
    "########################\n",
    "\n",
    "airports_Q1 = flight_data.filter(flight_data[\"Origin\"]==\"LAX\").filter(flight_data[\"Dest\"]==\"HNL\")\n",
    "\n",
    "# Week day delay\n",
    "\n",
    "week_day_delay = airports_Q1.select(\"DayOfWeek\", \"ArrDelay\", \"DepDelay\")\n",
    "week_day_delay = week_day_delay.withColumn(\"TotalDelay\", week_day_delay[\"ArrDelay\"].cast(\"float\")+week_day_delay[\"DepDelay\"].cast(\"float\")).orderBy(\"DayOfWeek\")\n",
    "week_day_delay = week_day_delay.select(week_day_delay[\"DayOfWeek\"].cast(IntegerType()),\"TotalDelay\")\n",
    "week_day_delay = week_day_delay.groupBy(\"DayOfWeek\").agg(F.mean(\"TotalDelay\"))\n",
    "\n",
    "week_day_delay.orderBy(\"avg(TotalDelay)\").show()\n",
    "\n",
    "# Monthly delay\n",
    "\n",
    "month_delay = airports_Q1.select(\"DayOfMonth\", \"ArrDelay\", \"DepDelay\")\n",
    "month_delay = month_delay.withColumn(\"TotalDelay\", month_delay[\"ArrDelay\"].cast(\"float\")+month_delay[\"DepDelay\"].cast(\"float\"))\n",
    "month_delay = month_delay.select(month_delay[\"DayOfMonth\"].cast(IntegerType()),\"TotalDelay\")\n",
    "month_delay = month_delay.groupBy(\"DayOfMonth\").agg(F.mean(\"TotalDelay\"))\n",
    "\n",
    "month_delay.orderBy(\"avg(TotalDelay)\").show(5)\n",
    "\n",
    "########################\n",
    "\n",
    "end_time = time.time()\n",
    "print(\"Time taken:\", end_time-start_time)"
   ]
  },
  {
   "cell_type": "markdown",
   "metadata": {},
   "source": [
    "# Least delays/flights"
   ]
  },
  {
   "cell_type": "code",
   "execution_count": 6,
   "metadata": {},
   "outputs": [
    {
     "name": "stdout",
     "output_type": "stream",
     "text": [
      "+------+------------------+\n",
      "|Origin|     avg(DepDelay)|\n",
      "+------+------------------+\n",
      "|   MIB|-7.136363636363637|\n",
      "|   GLH|              -5.5|\n",
      "|   LNY|-4.503623188405797|\n",
      "|   MKK|-2.966292134831461|\n",
      "|   ROP|-2.062944718117132|\n",
      "+------+------------------+\n",
      "only showing top 5 rows\n",
      "\n",
      "Time taken: 675.8642475605011\n"
     ]
    }
   ],
   "source": [
    "start_time = time.time()\n",
    "\n",
    "########################\n",
    "\n",
    "airports_Q2 = flight_data.select(\"Origin\", \"DepDelay\")\n",
    "airports_Q2 = airports_Q2.groupBy(\"Origin\").agg(F.mean(\"DepDelay\"))\n",
    "airports_Q2.orderBy(\"avg(DepDelay)\").show(5)\n",
    "\n",
    "########################\n",
    "\n",
    "end_time = time.time()\n",
    "print(\"Time taken:\", end_time-start_time)"
   ]
  },
  {
   "cell_type": "code",
   "execution_count": 5,
   "metadata": {},
   "outputs": [
    {
     "name": "stdout",
     "output_type": "stream",
     "text": [
      "Time taken: 2.9802322387695312e-05\n"
     ]
    }
   ],
   "source": []
  },
  {
   "cell_type": "code",
   "execution_count": null,
   "metadata": {},
   "outputs": [],
   "source": []
  },
  {
   "cell_type": "code",
   "execution_count": null,
   "metadata": {},
   "outputs": [],
   "source": []
  },
  {
   "cell_type": "code",
   "execution_count": null,
   "metadata": {},
   "outputs": [],
   "source": []
  }
 ],
 "metadata": {
  "kernelspec": {
   "display_name": "Python 3",
   "language": "python",
   "name": "python3"
  },
  "language_info": {
   "codemirror_mode": {
    "name": "ipython",
    "version": 3
   },
   "file_extension": ".py",
   "mimetype": "text/x-python",
   "name": "python",
   "nbconvert_exporter": "python",
   "pygments_lexer": "ipython3",
   "version": "3.6.7"
  }
 },
 "nbformat": 4,
 "nbformat_minor": 2
}
