{
 "cells": [
  {
   "cell_type": "code",
   "execution_count": 1,
   "metadata": {},
   "outputs": [],
   "source": [
    "from pyspark.sql import SparkSession\n",
    "\n",
    "# New API\n",
    "spark = SparkSession\\\n",
    "        .builder\\\n",
    "        .master(\"local[1]\")\\\n",
    "        .appName(\"team22\")\\\n",
    "        .config(\"spark.dynamicAllocation.enabled\", True)\\\n",
    "        .config(\"spark.shuffle.service.enabled\", True)\\\n",
    "        .config(\"spark.dynamicAllocation.executorIdleTimeout\",\"30s\")\\\n",
    "        .config(\"spark.executor.cores\",4)\\\n",
    "        .getOrCreate()\n",
    "        \n",
    "# Old API (RDD)\n",
    "sc = spark.sparkContext"
   ]
  },
  {
   "cell_type": "code",
   "execution_count": 2,
   "metadata": {},
   "outputs": [],
   "source": [
    "flight_data = spark\\\n",
    "    .read\\\n",
    "    .format(\"csv\")\\\n",
    "    .option(\"header\",\"true\")\\\n",
    "    .load(\"hdfs://192.168.1.153:9000/team22/data/1987.csv\")"
   ]
  },
  {
   "cell_type": "code",
   "execution_count": 3,
   "metadata": {},
   "outputs": [
    {
     "name": "stdout",
     "output_type": "stream",
     "text": [
      "root\n",
      " |-- Year: string (nullable = true)\n",
      " |-- Month: string (nullable = true)\n",
      " |-- DayofMonth: string (nullable = true)\n",
      " |-- DayOfWeek: string (nullable = true)\n",
      " |-- DepTime: string (nullable = true)\n",
      " |-- CRSDepTime: string (nullable = true)\n",
      " |-- ArrTime: string (nullable = true)\n",
      " |-- CRSArrTime: string (nullable = true)\n",
      " |-- UniqueCarrier: string (nullable = true)\n",
      " |-- FlightNum: string (nullable = true)\n",
      " |-- TailNum: string (nullable = true)\n",
      " |-- ActualElapsedTime: string (nullable = true)\n",
      " |-- CRSElapsedTime: string (nullable = true)\n",
      " |-- AirTime: string (nullable = true)\n",
      " |-- ArrDelay: string (nullable = true)\n",
      " |-- DepDelay: string (nullable = true)\n",
      " |-- Origin: string (nullable = true)\n",
      " |-- Dest: string (nullable = true)\n",
      " |-- Distance: string (nullable = true)\n",
      " |-- TaxiIn: string (nullable = true)\n",
      " |-- TaxiOut: string (nullable = true)\n",
      " |-- Cancelled: string (nullable = true)\n",
      " |-- CancellationCode: string (nullable = true)\n",
      " |-- Diverted: string (nullable = true)\n",
      " |-- CarrierDelay: string (nullable = true)\n",
      " |-- WeatherDelay: string (nullable = true)\n",
      " |-- NASDelay: string (nullable = true)\n",
      " |-- SecurityDelay: string (nullable = true)\n",
      " |-- LateAircraftDelay: string (nullable = true)\n",
      "\n"
     ]
    }
   ],
   "source": [
    "flight_data.printSchema()"
   ]
  },
  {
   "cell_type": "code",
   "execution_count": 4,
   "metadata": {},
   "outputs": [
    {
     "name": "stdout",
     "output_type": "stream",
     "text": [
      "1311826\n"
     ]
    }
   ],
   "source": [
    "print(flight_data.count())"
   ]
  },
  {
   "cell_type": "code",
   "execution_count": 5,
   "metadata": {},
   "outputs": [],
   "source": [
    "flight_data = flight_data.drop(\"CancellationCode\",\"Distance\",\"AirTime\",\"CRSElapsedTime\",\"Diverted\",\"SecurityDelay\",\"LateAircraftDelay\",\"UniqueCarrier\",\"TaxiIn\", \"TaxiOut\", \"FlightNum\", \"TailNum\",\"ActualElapsedTime\",\"CarrierDelay\" ,\"WeatherDelay\",\"NASDelay\")"
   ]
  },
  {
   "cell_type": "code",
   "execution_count": 6,
   "metadata": {},
   "outputs": [
    {
     "name": "stdout",
     "output_type": "stream",
     "text": [
      "root\n",
      " |-- Year: string (nullable = true)\n",
      " |-- Month: string (nullable = true)\n",
      " |-- DayofMonth: string (nullable = true)\n",
      " |-- DayOfWeek: string (nullable = true)\n",
      " |-- DepTime: string (nullable = true)\n",
      " |-- CRSDepTime: string (nullable = true)\n",
      " |-- ArrTime: string (nullable = true)\n",
      " |-- CRSArrTime: string (nullable = true)\n",
      " |-- ArrDelay: string (nullable = true)\n",
      " |-- DepDelay: string (nullable = true)\n",
      " |-- Origin: string (nullable = true)\n",
      " |-- Dest: string (nullable = true)\n",
      " |-- Cancelled: string (nullable = true)\n",
      "\n"
     ]
    }
   ],
   "source": [
    "flight_data.printSchema()"
   ]
  },
  {
   "cell_type": "markdown",
   "metadata": {},
   "source": [
    "# Grandma Question"
   ]
  },
  {
   "cell_type": "markdown",
   "metadata": {},
   "source": [
    "Filter Origin and Destination"
   ]
  },
  {
   "cell_type": "code",
   "execution_count": 20,
   "metadata": {},
   "outputs": [],
   "source": [
    "airports_Q1 = flight_data.filter(flight_data[\"Origin\"]==\"LAX\").filter(flight_data[\"Dest\"]==\"HNL\")"
   ]
  },
  {
   "cell_type": "code",
   "execution_count": 13,
   "metadata": {
    "scrolled": true
   },
   "outputs": [
    {
     "data": {
      "text/plain": [
       "['BGM',\n",
       " 'MSY',\n",
       " 'GEG',\n",
       " 'BUR',\n",
       " 'SNA',\n",
       " 'GTF',\n",
       " 'GRB',\n",
       " 'IDA',\n",
       " 'GRR',\n",
       " 'EUG',\n",
       " 'PSG',\n",
       " 'GSO',\n",
       " 'PVD',\n",
       " 'MYR',\n",
       " 'ISO',\n",
       " 'OAK',\n",
       " 'MSN',\n",
       " 'FAR',\n",
       " 'BTM',\n",
       " 'SCC',\n",
       " 'DCA',\n",
       " 'CID',\n",
       " 'MLU',\n",
       " 'WRG',\n",
       " 'HLN',\n",
       " 'RDM',\n",
       " 'LEX',\n",
       " 'ORF',\n",
       " 'EVV',\n",
       " 'KTN',\n",
       " 'CRW',\n",
       " 'CWA',\n",
       " 'SAV',\n",
       " 'TRI',\n",
       " 'CDV',\n",
       " 'CMH',\n",
       " 'SPN',\n",
       " 'CAK',\n",
       " 'UCA',\n",
       " 'CHO',\n",
       " 'MOB',\n",
       " 'PNS',\n",
       " 'LIH',\n",
       " 'IAH',\n",
       " 'HNL',\n",
       " 'ERI',\n",
       " 'SHV',\n",
       " 'SJC',\n",
       " 'CVG',\n",
       " 'TOL',\n",
       " 'LGA',\n",
       " 'BUF',\n",
       " 'TLH',\n",
       " 'HPN',\n",
       " 'RDD',\n",
       " 'AUS',\n",
       " 'MLI',\n",
       " 'SJU',\n",
       " 'ATW',\n",
       " 'LGB',\n",
       " 'GJT',\n",
       " 'AVL',\n",
       " 'LYH',\n",
       " 'BFL',\n",
       " 'GFK',\n",
       " 'RNO',\n",
       " 'SRQ',\n",
       " 'SBN',\n",
       " 'EYW',\n",
       " 'RST',\n",
       " 'JAC',\n",
       " 'CHS',\n",
       " 'TUL',\n",
       " 'RSW',\n",
       " 'HRL',\n",
       " 'ISP',\n",
       " 'AMA',\n",
       " 'BOS',\n",
       " 'MAF',\n",
       " 'MLB',\n",
       " 'EWR',\n",
       " 'LAS',\n",
       " 'BIS',\n",
       " 'FAI',\n",
       " 'JAN',\n",
       " 'DLH',\n",
       " 'DEN',\n",
       " 'ALB',\n",
       " 'CPR',\n",
       " 'LNK',\n",
       " 'OME',\n",
       " 'IAD',\n",
       " 'PSP',\n",
       " 'SBA',\n",
       " 'BOI',\n",
       " 'DRO',\n",
       " 'SEA',\n",
       " 'CMI',\n",
       " 'LAN',\n",
       " 'MCI',\n",
       " 'PIR',\n",
       " 'FLG',\n",
       " 'BNA',\n",
       " 'CLT',\n",
       " 'PSC',\n",
       " 'BLI',\n",
       " 'ORH',\n",
       " 'ABQ',\n",
       " 'PBI',\n",
       " 'PIE',\n",
       " 'SDF',\n",
       " 'SCK',\n",
       " 'ACV',\n",
       " 'MRY',\n",
       " 'BDL',\n",
       " 'DAL',\n",
       " 'ITH',\n",
       " 'CLE',\n",
       " 'APF',\n",
       " 'TVL',\n",
       " 'PDX',\n",
       " 'MFR',\n",
       " 'MIA',\n",
       " 'ILG',\n",
       " 'TPA',\n",
       " 'BWI',\n",
       " 'OKC',\n",
       " 'ROA',\n",
       " 'SMF',\n",
       " 'YAP',\n",
       " 'MBS',\n",
       " 'ELM',\n",
       " 'PHX',\n",
       " 'FCA',\n",
       " 'STL',\n",
       " 'PWM',\n",
       " 'BET',\n",
       " 'DFW',\n",
       " 'MHT',\n",
       " 'ABE',\n",
       " 'GSP',\n",
       " 'LSE',\n",
       " 'STX',\n",
       " 'FAY',\n",
       " 'HDN',\n",
       " 'LMT',\n",
       " 'GUC',\n",
       " 'LBB',\n",
       " 'CRP',\n",
       " 'FSD',\n",
       " 'CSG',\n",
       " 'SFO',\n",
       " 'MEM',\n",
       " 'ELP',\n",
       " 'GCN',\n",
       " 'BHM',\n",
       " 'YKM',\n",
       " 'FLL',\n",
       " 'ATL',\n",
       " 'FNT',\n",
       " 'RIC',\n",
       " 'DAY',\n",
       " 'PHF',\n",
       " 'OMA',\n",
       " 'VPS',\n",
       " 'LIT',\n",
       " 'FAT',\n",
       " 'ICT',\n",
       " 'CAE',\n",
       " 'PFN',\n",
       " 'ORD',\n",
       " 'AVP',\n",
       " 'BTV',\n",
       " 'BIL',\n",
       " 'ILM',\n",
       " 'PUB',\n",
       " 'PIA',\n",
       " 'GUM',\n",
       " 'RDU',\n",
       " 'MFE',\n",
       " 'MKE',\n",
       " 'CCR',\n",
       " 'SYR',\n",
       " 'HSV',\n",
       " 'LFT',\n",
       " 'TUS',\n",
       " 'PIT',\n",
       " 'MDW',\n",
       " 'AZO',\n",
       " 'COS',\n",
       " 'OAJ',\n",
       " 'JNU',\n",
       " 'IND',\n",
       " 'ALO',\n",
       " 'KOA',\n",
       " 'EAU',\n",
       " 'GPT',\n",
       " 'MGM',\n",
       " 'DTW',\n",
       " 'HOU',\n",
       " 'TYS',\n",
       " 'CHA',\n",
       " 'YUM',\n",
       " 'ONT',\n",
       " 'MDT',\n",
       " 'FWA',\n",
       " 'JAX',\n",
       " 'LAX',\n",
       " 'MSP',\n",
       " 'MOT',\n",
       " 'HTS',\n",
       " 'BGR',\n",
       " 'BTR',\n",
       " 'SIT',\n",
       " 'MCO',\n",
       " 'SGF',\n",
       " 'ROC',\n",
       " 'AGS',\n",
       " 'ROR',\n",
       " 'OTZ',\n",
       " 'SAN',\n",
       " 'BZN',\n",
       " 'YAK',\n",
       " 'JFK',\n",
       " 'ANC',\n",
       " 'SUX',\n",
       " 'DAB',\n",
       " 'GNV',\n",
       " 'MSO',\n",
       " 'PHL',\n",
       " 'OGG',\n",
       " 'DSM',\n",
       " 'FOE',\n",
       " 'SAT',\n",
       " 'SLC',\n",
       " 'STT',\n",
       " 'RAP']"
      ]
     },
     "execution_count": 13,
     "metadata": {},
     "output_type": "execute_result"
    }
   ],
   "source": []
  },
  {
   "cell_type": "markdown",
   "metadata": {},
   "source": [
    "Week day delay"
   ]
  },
  {
   "cell_type": "code",
   "execution_count": 27,
   "metadata": {},
   "outputs": [],
   "source": [
    "week_day_delay = airports_Q1.select(\"DayOfWeek\", \"ArrDelay\", \"DepDelay\")\n",
    "week_day_delay = week_day_delay.withColumn(\"TotalDelay\", week_day_delay[\"ArrDelay\"].cast(\"float\")+week_day_delay[\"DepDelay\"].cast(\"float\"))\n",
    "# week_day_delay = week_day_delay.groupBy(\"DayOfWeek\")\n",
    "week_day_delay = week_day_delay.select(\"DayOfWeek\",\"TotalDelay\").sort(\"DayOfWeek\").groupBy(\"DayOfWeek\").count()\n",
    "# week_day_delay.take(5)"
   ]
  },
  {
   "cell_type": "markdown",
   "metadata": {},
   "source": [
    "Monthly delay"
   ]
  },
  {
   "cell_type": "code",
   "execution_count": 23,
   "metadata": {},
   "outputs": [],
   "source": [
    "month_delay = airports_Q1.select(\"DayofMonth\", \"ArrDelay\", \"DepDelay\")\n",
    "month_delay = month_delay.withColumn(\"Total delay\", month_delay[\"ArrDelay\"].cast(\"float\")+month_delay[\"DepDelay\"].cast(\"float\"))\n",
    "month_delay = month_delay.groupBy(\"DayofMonth\")"
   ]
  },
  {
   "cell_type": "markdown",
   "metadata": {},
   "source": [
    "# Least delays/flights"
   ]
  },
  {
   "cell_type": "code",
   "execution_count": null,
   "metadata": {},
   "outputs": [],
   "source": [
    "airports_Q2 = flight_data.select(\"Origin\", \"DepDelay\")"
   ]
  }
 ],
 "metadata": {
  "kernelspec": {
   "display_name": "Python 3",
   "language": "python",
   "name": "python3"
  },
  "language_info": {
   "codemirror_mode": {
    "name": "ipython",
    "version": 3
   },
   "file_extension": ".py",
   "mimetype": "text/x-python",
   "name": "python",
   "nbconvert_exporter": "python",
   "pygments_lexer": "ipython3",
   "version": "3.6.7"
  }
 },
 "nbformat": 4,
 "nbformat_minor": 2
}
